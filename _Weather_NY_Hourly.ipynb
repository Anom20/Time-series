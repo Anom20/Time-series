{
 "cells": [
  {
   "cell_type": "markdown",
   "metadata": {
    "id": "B56M_rXehDgl"
   },
   "source": [
    "# Weather (NY hourly)"
   ]
  },
  {
   "cell_type": "code",
   "execution_count": null,
   "metadata": {},
   "outputs": [],
   "source": [
    "# import packages\n",
    "import seaborn as sns\n",
    "import pandas as pd\n",
    "import matplotlib.pyplot as plt\n",
    "from matplotlib.dates import DayLocator, HourLocator, DateFormatter, drange \n",
    "import numpy as np\n",
    "\n",
    "# import and clean data\n",
    "weather_data = pd.read_csv(\"ny_hourly.csv\", \n",
    "                           parse_dates=[[\"date\", \"TimeEST\"]],\n",
    "                           usecols=[\"date\", \"TimeEST\", \"TemperatureF\", \"Dew PointF\", \"Humidity\"]\n",
    "                          )\n",
    "weather_data_cleaned = weather_data[weather_data.TemperatureF > -100]\n",
    "weather_data_sorted = weather_data_cleaned.sort_values(\"date_TimeEST\")\n",
    "\n",
    "# view data\n",
    "weather_data.head()"
   ]
  },
  {
   "cell_type": "code",
   "execution_count": null,
   "metadata": {},
   "outputs": [],
   "source": []
  }
 ],
 "metadata": {
  "colab": {
   "collapsed_sections": [],
   "name": "Weather.ipynb",
   "provenance": []
  },
  "kernelspec": {
   "display_name": "Python 3",
   "language": "python",
   "name": "python3"
  },
  "language_info": {
   "codemirror_mode": {
    "name": "ipython",
    "version": 3
   },
   "file_extension": ".py",
   "mimetype": "text/x-python",
   "name": "python",
   "nbconvert_exporter": "python",
   "pygments_lexer": "ipython3",
   "version": "3.8.5"
  }
 },
 "nbformat": 4,
 "nbformat_minor": 1
}
